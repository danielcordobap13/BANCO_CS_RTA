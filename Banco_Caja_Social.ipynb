{
 "cells": [
  {
   "cell_type": "markdown",
   "metadata": {},
   "source": [
    "# Prueba Banco Caja Social:"
   ]
  },
  {
   "cell_type": "code",
   "execution_count": null,
   "metadata": {},
   "outputs": [],
   "source": []
  },
  {
   "cell_type": "code",
   "execution_count": 1,
   "metadata": {},
   "outputs": [],
   "source": [
    "library(data.table)"
   ]
  },
  {
   "cell_type": "code",
   "execution_count": 2,
   "metadata": {},
   "outputs": [],
   "source": [
    "BASE = fread(\"D:/2020_1/work_caja_social/Base_Prueba_1.csv\",data.table = F) \n"
   ]
  },
  {
   "cell_type": "markdown",
   "metadata": {},
   "source": [
    "### Matriz_Trancision "
   ]
  },
  {
   "cell_type": "code",
   "execution_count": 3,
   "metadata": {},
   "outputs": [
    {
     "data": {
      "text/plain": [
       "      \n",
       "                  0            1            2            3\n",
       "  0    0.7460106873 0.1462318039 0.0002211166 0.0000000000\n",
       "  1    0.0200110558 0.0355629261 0.0102082182 0.0002948222\n",
       "  2    0.0013635526 0.0025059886 0.0055279160 0.0107610098\n",
       "  NULL 0.0208586696 0.0003316750 0.0001105583 0.0000000000"
      ]
     },
     "metadata": {},
     "output_type": "display_data"
    }
   ],
   "source": [
    "table(BASE$Mora_Inicial,BASE$Mora_Siguiente) / nrow(BASE)\n"
   ]
  },
  {
   "cell_type": "markdown",
   "metadata": {},
   "source": [
    "<br>\n",
    "\n",
    "Dado que hay mas casos que pasan de estar bien a una altura de mora 1, a comparacion de casos que de estar en una altura de mora 1 se recuperan.\n",
    "\n",
    "Se establece que el limite del BGI debe ser una altura de mora igual o mayor a  1, la metodologia establecida es una matriz de transicion."
   ]
  },
  {
   "cell_type": "code",
   "execution_count": null,
   "metadata": {},
   "outputs": [],
   "source": []
  },
  {
   "cell_type": "code",
   "execution_count": null,
   "metadata": {},
   "outputs": [],
   "source": []
  },
  {
   "cell_type": "markdown",
   "metadata": {},
   "source": [
    "### Analisis descriptivo, exploratorio:\n"
   ]
  },
  {
   "cell_type": "markdown",
   "metadata": {},
   "source": [
    "Este analisis fue realizado en PowerBi, por tal razon se debe ingresar a este [link](https://app.powerbi.com/view?r=eyJrIjoiNTFjNmE1MGItZjdhZC00ZTQ3LWFlOTYtMTliZWViZDc3YjQ1IiwidCI6IjcxOGE2MTYzLWE5YzYtNDdlMi1iYzRjLTZmMjRmMGJjMjYyYyJ9), para poder visualizar el resultado,"
   ]
  },
  {
   "cell_type": "code",
   "execution_count": 10,
   "metadata": {},
   "outputs": [],
   "source": [
    "library(h2o)"
   ]
  },
  {
   "cell_type": "code",
   "execution_count": 12,
   "metadata": {},
   "outputs": [],
   "source": [
    "BASE$BGI = ifelse(BASE$Mora_Inicial>=1,1,0 )"
   ]
  },
  {
   "cell_type": "code",
   "execution_count": null,
   "metadata": {},
   "outputs": [],
   "source": []
  },
  {
   "cell_type": "code",
   "execution_count": 13,
   "metadata": {},
   "outputs": [
    {
     "name": "stdout",
     "output_type": "stream",
     "text": [
      "\n",
      "H2O is not running yet, starting it now...\n",
      "\n",
      "Note:  In case of errors look at the following log files:\n",
      "    C:\\Users\\ASUS\\AppData\\Local\\Temp\\RtmpA383IQ\\file36845ce27d77/h2o_ASUS_started_from_r.out\n",
      "    C:\\Users\\ASUS\\AppData\\Local\\Temp\\RtmpA383IQ\\file3684398b3d09/h2o_ASUS_started_from_r.err\n",
      "\n",
      "\n",
      "Starting H2O JVM and connecting: . Connection successful!\n",
      "\n",
      "R is connected to the H2O cluster: \n",
      "    H2O cluster uptime:         6 seconds 982 milliseconds \n",
      "    H2O cluster timezone:       America/Bogota \n",
      "    H2O data parsing timezone:  UTC \n",
      "    H2O cluster version:        3.30.0.1 \n",
      "    H2O cluster version age:    6 months and 3 days !!! \n",
      "    H2O cluster name:           H2O_started_from_R_ASUS_zgt243 \n",
      "    H2O cluster total nodes:    1 \n",
      "    H2O cluster total memory:   8.89 GB \n",
      "    H2O cluster total cores:    8 \n",
      "    H2O cluster allowed cores:  8 \n",
      "    H2O cluster healthy:        TRUE \n",
      "    H2O Connection ip:          localhost \n",
      "    H2O Connection port:        54321 \n",
      "    H2O Connection proxy:       NA \n",
      "    H2O Internal Security:      FALSE \n",
      "    H2O API Extensions:         Amazon S3, Algos, AutoML, Core V3, TargetEncoder, Core V4 \n",
      "    R Version:                  R version 3.6.1 (2019-07-05) \n"
     ]
    },
    {
     "name": "stderr",
     "output_type": "stream",
     "text": [
      "Warning message in h2o.clusterInfo():\n",
      "\"\n",
      "Your H2O cluster version is too old (6 months and 3 days)!\n",
      "Please download and install the latest version from http://h2o.ai/download/\""
     ]
    },
    {
     "name": "stdout",
     "output_type": "stream",
     "text": [
      "\n"
     ]
    }
   ],
   "source": [
    "\n",
    "h2o.init(max_mem_size = \"10G\",nthreads=-1)"
   ]
  },
  {
   "cell_type": "code",
   "execution_count": 68,
   "metadata": {},
   "outputs": [
    {
     "name": "stdout",
     "output_type": "stream",
     "text": [
      "  |======================================================================| 100%\n"
     ]
    }
   ],
   "source": [
    "DATA_1 =  h2o.importFile(path = \"D:/2020_1/work_caja_social/Base_Prueba_2.csv\")"
   ]
  },
  {
   "cell_type": "code",
   "execution_count": 69,
   "metadata": {},
   "outputs": [],
   "source": [
    "DATA_1 = DATA_1[-1,]"
   ]
  },
  {
   "cell_type": "code",
   "execution_count": 70,
   "metadata": {},
   "outputs": [],
   "source": [
    "DATA_1$BGI = as.factor(as.character(DATA_1$BGI))"
   ]
  },
  {
   "cell_type": "code",
   "execution_count": 71,
   "metadata": {},
   "outputs": [],
   "source": [
    "splits <- h2o.splitFrame(data=DATA_1, ratios=c(0.7,0.2))  \n",
    "train <- splits[[1]]\n",
    "valid <- splits[[2]]\n",
    "test <- splits[[3]]"
   ]
  },
  {
   "cell_type": "code",
   "execution_count": 72,
   "metadata": {},
   "outputs": [],
   "source": [
    "target <- \"BGI\"\n",
    "\n",
    "predictors <- c( \"Producto\"              ,          \"Cuotas_Pagadas\"    ,             \n",
    "  \"Cuotas_Pactadas\"       ,          \"OCUPACION\"   ,                   \n",
    "  \"Perspectiva_Sectorial\"  ,         \"Mono/Multi\"   ,                  \n",
    "  \"Antiguedad_Cliente\"      ,        \"Antiguedad_Obligacion\"  ,        \n",
    "\"Valor_Desembolso\"          ,      \"Actividad_Economica\",            \n",
    "\"Ciudad\"      ,                    \"Oficina\"     ,                   \n",
    " \"Regional\" ,            \n",
    "\"Contador_Pagos_6MesesAnteriores\", \"Nivel_Riesgo\",\"Saldo_Capital\") \n"
   ]
  },
  {
   "cell_type": "code",
   "execution_count": 73,
   "metadata": {},
   "outputs": [
    {
     "name": "stdout",
     "output_type": "stream",
     "text": [
      "  |======================================================================| 100%\n"
     ]
    }
   ],
   "source": [
    "GBM_MODEL <- h2o.gbm(x = predictors,\n",
    "                    y = target,\n",
    "                    nfolds = 2,\n",
    "                    seed = 1111,\n",
    "                    keep_cross_validation_predictions = TRUE,\n",
    "                    training_frame = train)"
   ]
  },
  {
   "cell_type": "code",
   "execution_count": 74,
   "metadata": {},
   "outputs": [
    {
     "data": {
      "text/plain": [
       "H2OBinomialMetrics: gbm\n",
       "\n",
       "MSE:  0.07915458\n",
       "RMSE:  0.2813442\n",
       "LogLoss:  0.2788743\n",
       "Mean Per-Class Error:  0.2839703\n",
       "AUC:  0.8042388\n",
       "AUCPR:  0.3681611\n",
       "Gini:  0.6084775\n",
       "R^2:  0.1515925\n",
       "\n",
       "Confusion Matrix (vertical: actual; across: predicted) for F1-optimal threshold:\n",
       "          0   1    Error       Rate\n",
       "0      2191 252 0.103152  =252/2443\n",
       "1       132 152 0.464789   =132/284\n",
       "Totals 2323 404 0.140814  =384/2727\n",
       "\n",
       "Maximum Metrics: Maximum metrics at their respective thresholds\n",
       "                        metric threshold       value idx\n",
       "1                       max f1  0.221001    0.441860 198\n",
       "2                       max f2  0.120143    0.544470 257\n",
       "3                 max f0point5  0.444763    0.440871 105\n",
       "4                 max accuracy  0.656923    0.901357  45\n",
       "5                max precision  0.688149    0.615385  37\n",
       "6                   max recall  0.002768    1.000000 399\n",
       "7              max specificity  0.953516    0.999591   0\n",
       "8             max absolute_mcc  0.180880    0.372194 217\n",
       "9   max min_per_class_accuracy  0.071304    0.732394 298\n",
       "10 max mean_per_class_accuracy  0.120143    0.748875 257\n",
       "11                     max tns  0.953516 2442.000000   0\n",
       "12                     max fns  0.953516  284.000000   0\n",
       "13                     max fps  0.002768 2443.000000 399\n",
       "14                     max tps  0.002768  284.000000 399\n",
       "15                     max tnr  0.953516    0.999591   0\n",
       "16                     max fnr  0.953516    1.000000   0\n",
       "17                     max fpr  0.002768    1.000000 399\n",
       "18                     max tpr  0.002768    1.000000 399\n",
       "\n",
       "Gains/Lift Table: Extract with `h2o.gainsLift(<model>, <data>)` or `h2o.gainsLift(<model>, valid=<T/F>, xval=<T/F>)`"
      ]
     },
     "metadata": {},
     "output_type": "display_data"
    }
   ],
   "source": [
    "perf <- h2o.performance(GBM_MODEL, test)\n",
    "perf"
   ]
  },
  {
   "cell_type": "code",
   "execution_count": null,
   "metadata": {},
   "outputs": [],
   "source": []
  },
  {
   "cell_type": "code",
   "execution_count": 77,
   "metadata": {},
   "outputs": [
    {
     "data": {
      "image/png": "[encoded data removed]",
      "text/plain": [
       "Plot with title \"Variable Importance: GBM\""
      ]
     },
     "metadata": {},
     "output_type": "display_data"
    }
   ],
   "source": [
    "h2o.varimp_plot(GBM_MODEL)"
   ]
  },
  {
   "cell_type": "markdown",
   "metadata": {},
   "source": [
    " Lo que indica el modelo, es que para detectar que personas pueden caer potencialmente en mora y quienes no. Las variables que mas utiliza el modelo son:\n",
    "\n",
    "* Oficina\n",
    "* Contador_Pagos_6MesesAnteriores\n",
    "* Cuotas Pagadas\n",
    "* Producto \n",
    "* Antiguedad Obligacion."
   ]
  },
  {
   "cell_type": "code",
   "execution_count": null,
   "metadata": {},
   "outputs": [],
   "source": []
  },
  {
   "cell_type": "markdown",
   "metadata": {},
   "source": [
    "### Segmentacion:"
   ]
  },
  {
   "cell_type": "markdown",
   "metadata": {},
   "source": [
    "La segmentacion se va a hacer en base a lo que indique los ALE_PLOTS de este algoritmo sobre las variables que son mas importantes para el.\n",
    "\n"
   ]
  },
  {
   "cell_type": "code",
   "execution_count": null,
   "metadata": {},
   "outputs": [],
   "source": []
  },
  {
   "cell_type": "code",
   "execution_count": 79,
   "metadata": {},
   "outputs": [],
   "source": [
    "defaultW <- getOption(\"warn\") \n",
    "\n",
    "library(dplyr)\n",
    "library(iml)\n",
    "library(DALEX)\n",
    "library(TeachingSampling)\n",
    "\n",
    "# 2. Create a vector with the actual responses\n",
    "response <- as.numeric(as.vector(DATA_1$BGI))\n",
    "\n",
    "# 3. Create custom predict function that returns the predicted values as a\n",
    "#    vector (probability of purchasing in our example)\n",
    "pred <- function(model, newdata)  {\n",
    "  results <- as.data.frame(h2o.predict(model, as.h2o(newdata)))\n",
    "  return(results[[3L]])\n",
    "}"
   ]
  },
  {
   "cell_type": "code",
   "execution_count": 84,
   "metadata": {},
   "outputs": [
    {
     "data": {
      "text/plain": [
       "\n",
       "    0     1 \n",
       "24217  2918 "
      ]
     },
     "metadata": {},
     "output_type": "display_data"
    }
   ],
   "source": [
    "table(as.vector(DATA_1$BGI))\n",
    "\n",
    "## Sample:\n",
    "Nh = c(24217,2918)\n",
    "nh <- c(2400,300)\n",
    "\n",
    "res<-S.STSI(BASE$BGI, Nh, nh)\n",
    "\n",
    "DATA_SAM = BASE[res,]\n",
    "\n",
    "response_1 <- as.numeric(as.vector(BASE$BGI))"
   ]
  },
  {
   "cell_type": "code",
   "execution_count": 85,
   "metadata": {},
   "outputs": [],
   "source": [
    "predictor.gbm <- Predictor$new(\n",
    "  model = GBM_MODEL, \n",
    "  data = DATA_SAM, \n",
    "  y = target, \n",
    "  predict.fun = pred,\n",
    "  class = \"classification\"\n",
    ")"
   ]
  },
  {
   "cell_type": "markdown",
   "metadata": {},
   "source": [
    "### Oficinas:"
   ]
  },
  {
   "cell_type": "code",
   "execution_count": 87,
   "metadata": {},
   "outputs": [
    {
     "name": "stderr",
     "output_type": "stream",
     "text": [
      "Warning message in mean.default(X[[i]], ...):\n",
      "\"argument is not numeric or logical: returning NA\"Warning message in mean.default(X[[i]], ...):\n",
      "\"argument is not numeric or logical: returning NA\"Warning message in mean.default(X[[i]], ...):\n",
      "\"argument is not numeric or logical: returning NA\"Warning message in mean.default(X[[i]], ...):\n",
      "\"argument is not numeric or logical: returning NA\"Warning message in mean.default(X[[i]], ...):\n",
      "\"argument is not numeric or logical: returning NA\"Warning message in mean.default(X[[i]], ...):\n",
      "\"argument is not numeric or logical: returning NA\"Warning message in mean.default(X[[i]], ...):\n",
      "\"argument is not numeric or logical: returning NA\"Warning message in mean.default(X[[i]], ...):\n",
      "\"argument is not numeric or logical: returning NA\"Warning message in mean.default(X[[i]], ...):\n",
      "\"argument is not numeric or logical: returning NA\"Warning message in mean.default(X[[i]], ...):\n",
      "\"argument is not numeric or logical: returning NA\"Warning message in mean.default(X[[i]], ...):\n",
      "\"argument is not numeric or logical: returning NA\"Warning message in mean.default(X[[i]], ...):\n",
      "\"argument is not numeric or logical: returning NA\"Warning message in mean.default(X[[i]], ...):\n",
      "\"argument is not numeric or logical: returning NA\"Warning message in mean.default(X[[i]], ...):\n",
      "\"argument is not numeric or logical: returning NA\"Warning message in mean.default(X[[i]], ...):\n",
      "\"argument is not numeric or logical: returning NA\"Warning message in mean.default(X[[i]], ...):\n",
      "\"argument is not numeric or logical: returning NA\"Warning message in mean.default(X[[i]], ...):\n",
      "\"argument is not numeric or logical: returning NA\"Warning message in mean.default(X[[i]], ...):\n",
      "\"argument is not numeric or logical: returning NA\"Warning message in mean.default(X[[i]], ...):\n",
      "\"argument is not numeric or logical: returning NA\"Warning message in mean.default(X[[i]], ...):\n",
      "\"argument is not numeric or logical: returning NA\"Warning message in mean.default(X[[i]], ...):\n",
      "\"argument is not numeric or logical: returning NA\"Warning message in mean.default(X[[i]], ...):\n",
      "\"argument is not numeric or logical: returning NA\"Warning message in mean.default(X[[i]], ...):\n",
      "\"argument is not numeric or logical: returning NA\"Warning message in mean.default(X[[i]], ...):\n",
      "\"argument is not numeric or logical: returning NA\"Warning message in mean.default(X[[i]], ...):\n",
      "\"argument is not numeric or logical: returning NA\"Warning message in mean.default(X[[i]], ...):\n",
      "\"argument is not numeric or logical: returning NA\"Warning message in mean.default(X[[i]], ...):\n",
      "\"argument is not numeric or logical: returning NA\"Warning message in mean.default(X[[i]], ...):\n",
      "\"argument is not numeric or logical: returning NA\"Warning message in mean.default(X[[i]], ...):\n",
      "\"argument is not numeric or logical: returning NA\"Warning message in mean.default(X[[i]], ...):\n",
      "\"argument is not numeric or logical: returning NA\"Warning message in mean.default(X[[i]], ...):\n",
      "\"argument is not numeric or logical: returning NA\"Warning message in mean.default(X[[i]], ...):\n",
      "\"argument is not numeric or logical: returning NA\"Warning message in mean.default(X[[i]], ...):\n",
      "\"argument is not numeric or logical: returning NA\"Warning message in mean.default(X[[i]], ...):\n",
      "\"argument is not numeric or logical: returning NA\"Warning message in mean.default(X[[i]], ...):\n",
      "\"argument is not numeric or logical: returning NA\"Warning message in mean.default(X[[i]], ...):\n",
      "\"argument is not numeric or logical: returning NA\"Warning message in mean.default(X[[i]], ...):\n",
      "\"argument is not numeric or logical: returning NA\"Warning message in mean.default(X[[i]], ...):\n",
      "\"argument is not numeric or logical: returning NA\"Warning message in mean.default(X[[i]], ...):\n",
      "\"argument is not numeric or logical: returning NA\"Warning message in mean.default(X[[i]], ...):\n",
      "\"argument is not numeric or logical: returning NA\"Warning message in mean.default(X[[i]], ...):\n",
      "\"argument is not numeric or logical: returning NA\"Warning message in mean.default(X[[i]], ...):\n",
      "\"argument is not numeric or logical: returning NA\"Warning message in mean.default(X[[i]], ...):\n",
      "\"argument is not numeric or logical: returning NA\"Warning message in mean.default(X[[i]], ...):\n",
      "\"argument is not numeric or logical: returning NA\"Warning message in mean.default(X[[i]], ...):\n",
      "\"argument is not numeric or logical: returning NA\"Warning message in mean.default(X[[i]], ...):\n",
      "\"argument is not numeric or logical: returning NA\"Warning message in mean.default(X[[i]], ...):\n",
      "\"argument is not numeric or logical: returning NA\"Warning message in mean.default(X[[i]], ...):\n",
      "\"argument is not numeric or logical: returning NA\"Warning message in mean.default(X[[i]], ...):\n",
      "\"argument is not numeric or logical: returning NA\"Warning message in mean.default(X[[i]], ...):\n",
      "\"argument is not numeric or logical: returning NA\"Warning message in mean.default(X[[i]], ...):\n",
      "\"argument is not numeric or logical: returning NA\"Warning message in mean.default(X[[i]], ...):\n",
      "\"argument is not numeric or logical: returning NA\"Warning message in mean.default(X[[i]], ...):\n",
      "\"argument is not numeric or logical: returning NA\"Warning message in mean.default(X[[i]], ...):\n",
      "\"argument is not numeric or logical: returning NA\"Warning message in mean.default(X[[i]], ...):\n",
      "\"argument is not numeric or logical: returning NA\"Warning message in mean.default(X[[i]], ...):\n",
      "\"argument is not numeric or logical: returning NA\"Warning message in mean.default(X[[i]], ...):\n",
      "\"argument is not numeric or logical: returning NA\"Warning message in mean.default(X[[i]], ...):\n",
      "\"argument is not numeric or logical: returning NA\"Warning message in mean.default(X[[i]], ...):\n",
      "\"argument is not numeric or logical: returning NA\"Warning message in mean.default(X[[i]], ...):\n",
      "\"argument is not numeric or logical: returning NA\"Warning message in mean.default(X[[i]], ...):\n",
      "\"argument is not numeric or logical: returning NA\"Warning message in mean.default(X[[i]], ...):\n",
      "\"argument is not numeric or logical: returning NA\"Warning message in mean.default(X[[i]], ...):\n",
      "\"argument is not numeric or logical: returning NA\"Warning message in mean.default(X[[i]], ...):\n",
      "\"argument is not numeric or logical: returning NA\"Warning message in mean.default(X[[i]], ...):\n",
      "\"argument is not numeric or logical: returning NA\"Warning message in mean.default(X[[i]], ...):\n",
      "\"argument is not numeric or logical: returning NA\"Warning message in mean.default(X[[i]], ...):\n",
      "\"argument is not numeric or logical: returning NA\"Warning message in mean.default(X[[i]], ...):\n",
      "\"argument is not numeric or logical: returning NA\"Warning message in mean.default(X[[i]], ...):\n",
      "\"argument is not numeric or logical: returning NA\"Warning message in mean.default(X[[i]], ...):\n",
      "\"argument is not numeric or logical: returning NA\"Warning message in mean.default(X[[i]], ...):\n",
      "\"argument is not numeric or logical: returning NA\"Warning message in mean.default(X[[i]], ...):\n",
      "\"argument is not numeric or logical: returning NA\"Warning message in mean.default(X[[i]], ...):\n",
      "\"argument is not numeric or logical: returning NA\"Warning message in mean.default(X[[i]], ...):\n",
      "\"argument is not numeric or logical: returning NA\"Warning message in mean.default(X[[i]], ...):\n",
      "\"argument is not numeric or logical: returning NA\"Warning message in mean.default(X[[i]], ...):\n",
      "\"argument is not numeric or logical: returning NA\"Warning message in mean.default(X[[i]], ...):\n",
      "\"argument is not numeric or logical: returning NA\"Warning message in mean.default(X[[i]], ...):\n",
      "\"argument is not numeric or logical: returning NA\"Warning message in mean.default(X[[i]], ...):\n",
      "\"argument is not numeric or logical: returning NA\"Warning message in mean.default(X[[i]], ...):\n",
      "\"argument is not numeric or logical: returning NA\"Warning message in mean.default(X[[i]], ...):\n",
      "\"argument is not numeric or logical: returning NA\"Warning message in mean.default(X[[i]], ...):\n",
      "\"argument is not numeric or logical: returning NA\"Warning message in mean.default(X[[i]], ...):\n",
      "\"argument is not numeric or logical: returning NA\"Warning message in mean.default(X[[i]], ...):\n",
      "\"argument is not numeric or logical: returning NA\"Warning message in mean.default(X[[i]], ...):\n",
      "\"argument is not numeric or logical: returning NA\"Warning message in mean.default(X[[i]], ...):\n"
     ]
    },
    {
     "name": "stderr",
     "output_type": "stream",
     "text": [
      "\"argument is not numeric or logical: returning NA\"Warning message in mean.default(X[[i]], ...):\n",
      "\"argument is not numeric or logical: returning NA\"Warning message in mean.default(X[[i]], ...):\n",
      "\"argument is not numeric or logical: returning NA\"Warning message in mean.default(X[[i]], ...):\n",
      "\"argument is not numeric or logical: returning NA\"Warning message in mean.default(X[[i]], ...):\n",
      "\"argument is not numeric or logical: returning NA\"Warning message in mean.default(X[[i]], ...):\n",
      "\"argument is not numeric or logical: returning NA\"Warning message in mean.default(X[[i]], ...):\n",
      "\"argument is not numeric or logical: returning NA\"Warning message in mean.default(X[[i]], ...):\n",
      "\"argument is not numeric or logical: returning NA\"Warning message in mean.default(X[[i]], ...):\n",
      "\"argument is not numeric or logical: returning NA\"Warning message in mean.default(X[[i]], ...):\n",
      "\"argument is not numeric or logical: returning NA\"Warning message in mean.default(X[[i]], ...):\n",
      "\"argument is not numeric or logical: returning NA\"Warning message in mean.default(X[[i]], ...):\n",
      "\"argument is not numeric or logical: returning NA\"Warning message in mean.default(X[[i]], ...):\n",
      "\"argument is not numeric or logical: returning NA\"Warning message in mean.default(X[[i]], ...):\n",
      "\"argument is not numeric or logical: returning NA\"Warning message in mean.default(X[[i]], ...):\n",
      "\"argument is not numeric or logical: returning NA\"Warning message in mean.default(X[[i]], ...):\n",
      "\"argument is not numeric or logical: returning NA\"Warning message in mean.default(X[[i]], ...):\n",
      "\"argument is not numeric or logical: returning NA\"Warning message in mean.default(X[[i]], ...):\n",
      "\"argument is not numeric or logical: returning NA\"Warning message in mean.default(X[[i]], ...):\n",
      "\"argument is not numeric or logical: returning NA\"Warning message in mean.default(X[[i]], ...):\n",
      "\"argument is not numeric or logical: returning NA\"Warning message in mean.default(X[[i]], ...):\n",
      "\"argument is not numeric or logical: returning NA\"Warning message in mean.default(X[[i]], ...):\n",
      "\"argument is not numeric or logical: returning NA\"Warning message in mean.default(X[[i]], ...):\n",
      "\"argument is not numeric or logical: returning NA\"Warning message in mean.default(X[[i]], ...):\n",
      "\"argument is not numeric or logical: returning NA\"Warning message in mean.default(X[[i]], ...):\n",
      "\"argument is not numeric or logical: returning NA\"Warning message in mean.default(X[[i]], ...):\n",
      "\"argument is not numeric or logical: returning NA\"Warning message in mean.default(X[[i]], ...):\n",
      "\"argument is not numeric or logical: returning NA\"Warning message in mean.default(X[[i]], ...):\n",
      "\"argument is not numeric or logical: returning NA\"Warning message in mean.default(X[[i]], ...):\n",
      "\"argument is not numeric or logical: returning NA\"Warning message in mean.default(X[[i]], ...):\n",
      "\"argument is not numeric or logical: returning NA\"Warning message in mean.default(X[[i]], ...):\n",
      "\"argument is not numeric or logical: returning NA\"Warning message in mean.default(X[[i]], ...):\n",
      "\"argument is not numeric or logical: returning NA\"Warning message in mean.default(X[[i]], ...):\n",
      "\"argument is not numeric or logical: returning NA\"Warning message in mean.default(X[[i]], ...):\n",
      "\"argument is not numeric or logical: returning NA\"Warning message in mean.default(X[[i]], ...):\n",
      "\"argument is not numeric or logical: returning NA\"Warning message in mean.default(X[[i]], ...):\n",
      "\"argument is not numeric or logical: returning NA\"Warning message in mean.default(X[[i]], ...):\n",
      "\"argument is not numeric or logical: returning NA\"Warning message in mean.default(X[[i]], ...):\n",
      "\"argument is not numeric or logical: returning NA\"Warning message in mean.default(X[[i]], ...):\n",
      "\"argument is not numeric or logical: returning NA\"Warning message in mean.default(X[[i]], ...):\n",
      "\"argument is not numeric or logical: returning NA\"Warning message in mean.default(X[[i]], ...):\n",
      "\"argument is not numeric or logical: returning NA\"Warning message in mean.default(X[[i]], ...):\n",
      "\"argument is not numeric or logical: returning NA\"Warning message in mean.default(X[[i]], ...):\n",
      "\"argument is not numeric or logical: returning NA\"Warning message in mean.default(X[[i]], ...):\n",
      "\"argument is not numeric or logical: returning NA\"Warning message in mean.default(X[[i]], ...):\n",
      "\"argument is not numeric or logical: returning NA\"Warning message in mean.default(X[[i]], ...):\n",
      "\"argument is not numeric or logical: returning NA\"Warning message in mean.default(X[[i]], ...):\n",
      "\"argument is not numeric or logical: returning NA\"Warning message in mean.default(X[[i]], ...):\n",
      "\"argument is not numeric or logical: returning NA\"Warning message in mean.default(X[[i]], ...):\n",
      "\"argument is not numeric or logical: returning NA\"Warning message in mean.default(X[[i]], ...):\n",
      "\"argument is not numeric or logical: returning NA\"Warning message in mean.default(X[[i]], ...):\n",
      "\"argument is not numeric or logical: returning NA\"Warning message in mean.default(X[[i]], ...):\n",
      "\"argument is not numeric or logical: returning NA\"Warning message in mean.default(X[[i]], ...):\n",
      "\"argument is not numeric or logical: returning NA\"Warning message in mean.default(X[[i]], ...):\n",
      "\"argument is not numeric or logical: returning NA\"Warning message in mean.default(X[[i]], ...):\n",
      "\"argument is not numeric or logical: returning NA\"Warning message in mean.default(X[[i]], ...):\n",
      "\"argument is not numeric or logical: returning NA\"Warning message in mean.default(X[[i]], ...):\n",
      "\"argument is not numeric or logical: returning NA\"Warning message in mean.default(X[[i]], ...):\n",
      "\"argument is not numeric or logical: returning NA\"Warning message in mean.default(X[[i]], ...):\n",
      "\"argument is not numeric or logical: returning NA\"Warning message in mean.default(X[[i]], ...):\n",
      "\"argument is not numeric or logical: returning NA\"Warning message in mean.default(X[[i]], ...):\n",
      "\"argument is not numeric or logical: returning NA\"Warning message in mean.default(X[[i]], ...):\n",
      "\"argument is not numeric or logical: returning NA\"Warning message in mean.default(X[[i]], ...):\n",
      "\"argument is not numeric or logical: returning NA\"Warning message in mean.default(X[[i]], ...):\n",
      "\"argument is not numeric or logical: returning NA\"Warning message in mean.default(X[[i]], ...):\n",
      "\"argument is not numeric or logical: returning NA\"Warning message in mean.default(X[[i]], ...):\n",
      "\"argument is not numeric or logical: returning NA\"Warning message in mean.default(X[[i]], ...):\n",
      "\"argument is not numeric or logical: returning NA\"Warning message in mean.default(X[[i]], ...):\n",
      "\"argument is not numeric or logical: returning NA\"Warning message in mean.default(X[[i]], ...):\n",
      "\"argument is not numeric or logical: returning NA\"Warning message in mean.default(X[[i]], ...):\n",
      "\"argument is not numeric or logical: returning NA\"Warning message in mean.default(X[[i]], ...):\n",
      "\"argument is not numeric or logical: returning NA\"Warning message in mean.default(X[[i]], ...):\n",
      "\"argument is not numeric or logical: returning NA\"Warning message in mean.default(X[[i]], ...):\n",
      "\"argument is not numeric or logical: returning NA\"Warning message in mean.default(X[[i]], ...):\n",
      "\"argument is not numeric or logical: returning NA\"Warning message in mean.default(X[[i]], ...):\n",
      "\"argument is not numeric or logical: returning NA\"Warning message in mean.default(X[[i]], ...):\n",
      "\"argument is not numeric or logical: returning NA\"Warning message in mean.default(X[[i]], ...):\n",
      "\"argument is not numeric or logical: returning NA\"Warning message in mean.default(X[[i]], ...):\n",
      "\"argument is not numeric or logical: returning NA\"Warning message in mean.default(X[[i]], ...):\n",
      "\"argument is not numeric or logical: returning NA\"Warning message in mean.default(X[[i]], ...):\n",
      "\"argument is not numeric or logical: returning NA\"Warning message in mean.default(X[[i]], ...):\n",
      "\"argument is not numeric or logical: returning NA\"Warning message in mean.default(X[[i]], ...):\n",
      "\"argument is not numeric or logical: returning NA\"Warning message in mean.default(X[[i]], ...):\n",
      "\"argument is not numeric or logical: returning NA\"Warning message in mean.default(X[[i]], ...):\n",
      "\"argument is not numeric or logical: returning NA\"Warning message in mean.default(X[[i]], ...):\n",
      "\"argument is not numeric or logical: returning NA\"Warning message in mean.default(X[[i]], ...):\n"
     ]
    },
    {
     "name": "stderr",
     "output_type": "stream",
     "text": [
      "\"argument is not numeric or logical: returning NA\"Warning message in mean.default(X[[i]], ...):\n",
      "\"argument is not numeric or logical: returning NA\"Warning message in mean.default(X[[i]], ...):\n",
      "\"argument is not numeric or logical: returning NA\"Warning message in mean.default(X[[i]], ...):\n",
      "\"argument is not numeric or logical: returning NA\"Warning message in mean.default(X[[i]], ...):\n",
      "\"argument is not numeric or logical: returning NA\"Warning message in mean.default(X[[i]], ...):\n",
      "\"argument is not numeric or logical: returning NA\"Warning message in mean.default(X[[i]], ...):\n",
      "\"argument is not numeric or logical: returning NA\"Warning message in mean.default(X[[i]], ...):\n",
      "\"argument is not numeric or logical: returning NA\"Warning message in mean.default(X[[i]], ...):\n",
      "\"argument is not numeric or logical: returning NA\"Warning message in mean.default(X[[i]], ...):\n",
      "\"argument is not numeric or logical: returning NA\"Warning message in mean.default(X[[i]], ...):\n",
      "\"argument is not numeric or logical: returning NA\"Warning message in mean.default(X[[i]], ...):\n",
      "\"argument is not numeric or logical: returning NA\"Warning message in mean.default(X[[i]], ...):\n",
      "\"argument is not numeric or logical: returning NA\"Warning message in mean.default(X[[i]], ...):\n",
      "\"argument is not numeric or logical: returning NA\"Warning message in mean.default(X[[i]], ...):\n",
      "\"argument is not numeric or logical: returning NA\"Warning message in mean.default(X[[i]], ...):\n",
      "\"argument is not numeric or logical: returning NA\"Warning message in mean.default(X[[i]], ...):\n",
      "\"argument is not numeric or logical: returning NA\"Warning message in mean.default(X[[i]], ...):\n",
      "\"argument is not numeric or logical: returning NA\"Warning message in mean.default(X[[i]], ...):\n",
      "\"argument is not numeric or logical: returning NA\"Warning message in mean.default(X[[i]], ...):\n",
      "\"argument is not numeric or logical: returning NA\"Warning message in mean.default(X[[i]], ...):\n",
      "\"argument is not numeric or logical: returning NA\"Warning message in mean.default(X[[i]], ...):\n",
      "\"argument is not numeric or logical: returning NA\"Warning message in mean.default(X[[i]], ...):\n",
      "\"argument is not numeric or logical: returning NA\"Warning message in mean.default(X[[i]], ...):\n",
      "\"argument is not numeric or logical: returning NA\"Warning message in mean.default(X[[i]], ...):\n",
      "\"argument is not numeric or logical: returning NA\"Warning message in mean.default(X[[i]], ...):\n",
      "\"argument is not numeric or logical: returning NA\"Warning message in mean.default(X[[i]], ...):\n",
      "\"argument is not numeric or logical: returning NA\"Warning message in mean.default(X[[i]], ...):\n",
      "\"argument is not numeric or logical: returning NA\"Warning message in mean.default(X[[i]], ...):\n",
      "\"argument is not numeric or logical: returning NA\"Warning message in mean.default(X[[i]], ...):\n",
      "\"argument is not numeric or logical: returning NA\"Warning message in mean.default(X[[i]], ...):\n",
      "\"argument is not numeric or logical: returning NA\"Warning message in mean.default(X[[i]], ...):\n",
      "\"argument is not numeric or logical: returning NA\"Warning message in mean.default(X[[i]], ...):\n",
      "\"argument is not numeric or logical: returning NA\"Warning message in mean.default(X[[i]], ...):\n",
      "\"argument is not numeric or logical: returning NA\"Warning message in mean.default(X[[i]], ...):\n",
      "\"argument is not numeric or logical: returning NA\"Warning message in mean.default(X[[i]], ...):\n",
      "\"argument is not numeric or logical: returning NA\"Warning message in mean.default(X[[i]], ...):\n",
      "\"argument is not numeric or logical: returning NA\"Warning message in mean.default(X[[i]], ...):\n",
      "\"argument is not numeric or logical: returning NA\"Warning message in mean.default(X[[i]], ...):\n",
      "\"argument is not numeric or logical: returning NA\"Warning message in mean.default(X[[i]], ...):\n",
      "\"argument is not numeric or logical: returning NA\"Warning message in mean.default(X[[i]], ...):\n",
      "\"argument is not numeric or logical: returning NA\"Warning message in mean.default(X[[i]], ...):\n",
      "\"argument is not numeric or logical: returning NA\"Warning message in mean.default(X[[i]], ...):\n",
      "\"argument is not numeric or logical: returning NA\"Warning message in mean.default(X[[i]], ...):\n",
      "\"argument is not numeric or logical: returning NA\"Warning message in mean.default(X[[i]], ...):\n",
      "\"argument is not numeric or logical: returning NA\"Warning message in mean.default(X[[i]], ...):\n",
      "\"argument is not numeric or logical: returning NA\"Warning message in mean.default(X[[i]], ...):\n",
      "\"argument is not numeric or logical: returning NA\"Warning message in mean.default(X[[i]], ...):\n",
      "\"argument is not numeric or logical: returning NA\"Warning message in mean.default(X[[i]], ...):\n",
      "\"argument is not numeric or logical: returning NA\"Warning message in mean.default(X[[i]], ...):\n",
      "\"argument is not numeric or logical: returning NA\"Warning message in mean.default(X[[i]], ...):\n",
      "\"argument is not numeric or logical: returning NA\"Warning message in mean.default(X[[i]], ...):\n",
      "\"argument is not numeric or logical: returning NA\"Warning message in mean.default(X[[i]], ...):\n",
      "\"argument is not numeric or logical: returning NA\"Warning message in mean.default(X[[i]], ...):\n",
      "\"argument is not numeric or logical: returning NA\"Warning message in mean.default(X[[i]], ...):\n",
      "\"argument is not numeric or logical: returning NA\"Warning message in mean.default(X[[i]], ...):\n",
      "\"argument is not numeric or logical: returning NA\"Warning message in mean.default(X[[i]], ...):\n",
      "\"argument is not numeric or logical: returning NA\"Warning message in mean.default(X[[i]], ...):\n",
      "\"argument is not numeric or logical: returning NA\"Warning message in mean.default(X[[i]], ...):\n",
      "\"argument is not numeric or logical: returning NA\"Warning message in mean.default(X[[i]], ...):\n",
      "\"argument is not numeric or logical: returning NA\"Warning message in mean.default(X[[i]], ...):\n",
      "\"argument is not numeric or logical: returning NA\"Warning message in mean.default(X[[i]], ...):\n",
      "\"argument is not numeric or logical: returning NA\"Warning message in mean.default(X[[i]], ...):\n",
      "\"argument is not numeric or logical: returning NA\"Warning message in mean.default(X[[i]], ...):\n",
      "\"argument is not numeric or logical: returning NA\"Warning message in mean.default(X[[i]], ...):\n",
      "\"argument is not numeric or logical: returning NA\"Warning message in mean.default(X[[i]], ...):\n",
      "\"argument is not numeric or logical: returning NA\"Warning message in mean.default(X[[i]], ...):\n",
      "\"argument is not numeric or logical: returning NA\"Warning message in mean.default(X[[i]], ...):\n",
      "\"argument is not numeric or logical: returning NA\"Warning message in mean.default(X[[i]], ...):\n",
      "\"argument is not numeric or logical: returning NA\"Warning message in mean.default(X[[i]], ...):\n",
      "\"argument is not numeric or logical: returning NA\"Warning message in mean.default(X[[i]], ...):\n",
      "\"argument is not numeric or logical: returning NA\"Warning message in mean.default(X[[i]], ...):\n",
      "\"argument is not numeric or logical: returning NA\"Warning message in mean.default(X[[i]], ...):\n",
      "\"argument is not numeric or logical: returning NA\"Warning message in mean.default(X[[i]], ...):\n",
      "\"argument is not numeric or logical: returning NA\"Warning message in mean.default(X[[i]], ...):\n",
      "\"argument is not numeric or logical: returning NA\"Warning message in mean.default(X[[i]], ...):\n",
      "\"argument is not numeric or logical: returning NA\"Warning message in mean.default(X[[i]], ...):\n",
      "\"argument is not numeric or logical: returning NA\"Warning message in mean.default(X[[i]], ...):\n",
      "\"argument is not numeric or logical: returning NA\"Warning message in mean.default(X[[i]], ...):\n",
      "\"argument is not numeric or logical: returning NA\"Warning message in mean.default(X[[i]], ...):\n",
      "\"argument is not numeric or logical: returning NA\"Warning message in mean.default(X[[i]], ...):\n",
      "\"argument is not numeric or logical: returning NA\"Warning message in mean.default(X[[i]], ...):\n",
      "\"argument is not numeric or logical: returning NA\"Warning message in mean.default(X[[i]], ...):\n",
      "\"argument is not numeric or logical: returning NA\"Warning message in mean.default(X[[i]], ...):\n",
      "\"argument is not numeric or logical: returning NA\"Warning message in mean.default(X[[i]], ...):\n",
      "\"argument is not numeric or logical: returning NA\"Warning message in mean.default(X[[i]], ...):\n"
     ]
    },
    {
     "name": "stderr",
     "output_type": "stream",
     "text": [
      "\"argument is not numeric or logical: returning NA\"Warning message in mean.default(X[[i]], ...):\n",
      "\"argument is not numeric or logical: returning NA\"Warning message in mean.default(X[[i]], ...):\n",
      "\"argument is not numeric or logical: returning NA\"Warning message in mean.default(X[[i]], ...):\n",
      "\"argument is not numeric or logical: returning NA\"Warning message in mean.default(X[[i]], ...):\n",
      "\"argument is not numeric or logical: returning NA\"Warning message in mean.default(X[[i]], ...):\n",
      "\"argument is not numeric or logical: returning NA\"Warning message in mean.default(X[[i]], ...):\n",
      "\"argument is not numeric or logical: returning NA\"Warning message in mean.default(X[[i]], ...):\n",
      "\"argument is not numeric or logical: returning NA\"Warning message in mean.default(X[[i]], ...):\n",
      "\"argument is not numeric or logical: returning NA\"Warning message in mean.default(X[[i]], ...):\n",
      "\"argument is not numeric or logical: returning NA\"Warning message in mean.default(X[[i]], ...):\n",
      "\"argument is not numeric or logical: returning NA\"Warning message in mean.default(X[[i]], ...):\n",
      "\"argument is not numeric or logical: returning NA\"Warning message in mean.default(X[[i]], ...):\n",
      "\"argument is not numeric or logical: returning NA\"Warning message in mean.default(X[[i]], ...):\n",
      "\"argument is not numeric or logical: returning NA\"Warning message in mean.default(X[[i]], ...):\n",
      "\"argument is not numeric or logical: returning NA\"Warning message in mean.default(X[[i]], ...):\n",
      "\"argument is not numeric or logical: returning NA\"Warning message in mean.default(X[[i]], ...):\n",
      "\"argument is not numeric or logical: returning NA\"Warning message in mean.default(X[[i]], ...):\n",
      "\"argument is not numeric or logical: returning NA\"Warning message in mean.default(X[[i]], ...):\n",
      "\"argument is not numeric or logical: returning NA\""
     ]
    },
    {
     "data": {
      "text/html": [
       "<table>\n",
       "<caption>A data.frame: 274 × 2</caption>\n",
       "<thead>\n",
       "\t<tr><th scope=col>Group.1</th><th scope=col>x</th></tr>\n",
       "\t<tr><th scope=col>&lt;chr&gt;</th><th scope=col>&lt;dbl&gt;</th></tr>\n",
       "</thead>\n",
       "<tbody>\n",
       "\t<tr><td>Acacias                 </td><td>NA</td></tr>\n",
       "\t<tr><td>Alamos                  </td><td>NA</td></tr>\n",
       "\t<tr><td>Alcazares               </td><td>NA</td></tr>\n",
       "\t<tr><td>Alfonso Lopez           </td><td>NA</td></tr>\n",
       "\t<tr><td>Alpujarra               </td><td>NA</td></tr>\n",
       "\t<tr><td>Altavista               </td><td>NA</td></tr>\n",
       "\t<tr><td>Alto Prado              </td><td>NA</td></tr>\n",
       "\t<tr><td>America                 </td><td>NA</td></tr>\n",
       "\t<tr><td>Antiguo Country         </td><td>NA</td></tr>\n",
       "\t<tr><td>Apartado                </td><td>NA</td></tr>\n",
       "\t<tr><td>Arauca                  </td><td>NA</td></tr>\n",
       "\t<tr><td>Armenia Plaza           </td><td>NA</td></tr>\n",
       "\t<tr><td>Asturias                </td><td>NA</td></tr>\n",
       "\t<tr><td>Av Cuarta Cucuta        </td><td>NA</td></tr>\n",
       "\t<tr><td>Av Las Palmas Fusagasuga</td><td>NA</td></tr>\n",
       "\t<tr><td>Av. Caracas             </td><td>NA</td></tr>\n",
       "\t<tr><td>Av. Ciudad De Cali      </td><td>NA</td></tr>\n",
       "\t<tr><td>Avenida 26              </td><td>NA</td></tr>\n",
       "\t<tr><td>Avenida 30 De Agosto    </td><td>NA</td></tr>\n",
       "\t<tr><td>Avenida 40              </td><td>NA</td></tr>\n",
       "\t<tr><td>Avenida Cero            </td><td>NA</td></tr>\n",
       "\t<tr><td>Avenida Chile           </td><td>NA</td></tr>\n",
       "\t<tr><td>Avenida Circunvalar     </td><td>NA</td></tr>\n",
       "\t<tr><td>Avenida Colombia        </td><td>NA</td></tr>\n",
       "\t<tr><td>Avenida Diecinueve      </td><td>NA</td></tr>\n",
       "\t<tr><td>Avenida El Dorado       </td><td>NA</td></tr>\n",
       "\t<tr><td>Avenida Estacion        </td><td>NA</td></tr>\n",
       "\t<tr><td>Avenida Los Estudiantes </td><td>NA</td></tr>\n",
       "\t<tr><td>Avenida Norte Tunja     </td><td>NA</td></tr>\n",
       "\t<tr><td>Avenida Oriental        </td><td>NA</td></tr>\n",
       "\t<tr><td>...</td><td>...</td></tr>\n",
       "\t<tr><td>Teleport                 </td><td>NA</td></tr>\n",
       "\t<tr><td>Tequendama               </td><td>NA</td></tr>\n",
       "\t<tr><td>Terminal De Transportes  </td><td>NA</td></tr>\n",
       "\t<tr><td>Tintal                   </td><td>NA</td></tr>\n",
       "\t<tr><td>Titan                    </td><td>NA</td></tr>\n",
       "\t<tr><td>Toberin                  </td><td>NA</td></tr>\n",
       "\t<tr><td>Toberin Parque Industrial</td><td>NA</td></tr>\n",
       "\t<tr><td>Trinidad Galan           </td><td>NA</td></tr>\n",
       "\t<tr><td>Trinidad Galan Calle 3A  </td><td>NA</td></tr>\n",
       "\t<tr><td>Troncal                  </td><td>NA</td></tr>\n",
       "\t<tr><td>Tunja                    </td><td>NA</td></tr>\n",
       "\t<tr><td>Tunjuelito               </td><td>NA</td></tr>\n",
       "\t<tr><td>Tuquerres                </td><td>NA</td></tr>\n",
       "\t<tr><td>Unicentro Bogota         </td><td>NA</td></tr>\n",
       "\t<tr><td>Unicentro Cali           </td><td>NA</td></tr>\n",
       "\t<tr><td>Unicentro Cucuta         </td><td>NA</td></tr>\n",
       "\t<tr><td>Unicentro Medellin       </td><td>NA</td></tr>\n",
       "\t<tr><td>Unico Cali               </td><td>NA</td></tr>\n",
       "\t<tr><td>Unisur                   </td><td>NA</td></tr>\n",
       "\t<tr><td>Valledupar               </td><td>NA</td></tr>\n",
       "\t<tr><td>Vehigrupo                </td><td>NA</td></tr>\n",
       "\t<tr><td>Veinte De Julio          </td><td>NA</td></tr>\n",
       "\t<tr><td>Veinte De Julio Cra 5    </td><td>NA</td></tr>\n",
       "\t<tr><td>Venecia                  </td><td>NA</td></tr>\n",
       "\t<tr><td>Venecia Av. 68           </td><td>NA</td></tr>\n",
       "\t<tr><td>Villa Javier             </td><td>NA</td></tr>\n",
       "\t<tr><td>Villavicencio            </td><td>NA</td></tr>\n",
       "\t<tr><td>Yopal                    </td><td>NA</td></tr>\n",
       "\t<tr><td>Zipaquira                </td><td>NA</td></tr>\n",
       "\t<tr><td>Zona Industrial          </td><td>NA</td></tr>\n",
       "</tbody>\n",
       "</table>\n"
      ],
      "text/latex": [
       "A data.frame: 274 × 2\n",
       "\\begin{tabular}{ll}\n",
       " Group.1 & x\\\\\n",
       " <chr> & <dbl>\\\\\n",
       "\\hline\n",
       "\t Acacias                  & NA\\\\\n",
       "\t Alamos                   & NA\\\\\n",
       "\t Alcazares                & NA\\\\\n",
       "\t Alfonso Lopez            & NA\\\\\n",
       "\t Alpujarra                & NA\\\\\n",
       "\t Altavista                & NA\\\\\n",
       "\t Alto Prado               & NA\\\\\n",
       "\t America                  & NA\\\\\n",
       "\t Antiguo Country          & NA\\\\\n",
       "\t Apartado                 & NA\\\\\n",
       "\t Arauca                   & NA\\\\\n",
       "\t Armenia Plaza            & NA\\\\\n",
       "\t Asturias                 & NA\\\\\n",
       "\t Av Cuarta Cucuta         & NA\\\\\n",
       "\t Av Las Palmas Fusagasuga & NA\\\\\n",
       "\t Av. Caracas              & NA\\\\\n",
       "\t Av. Ciudad De Cali       & NA\\\\\n",
       "\t Avenida 26               & NA\\\\\n",
       "\t Avenida 30 De Agosto     & NA\\\\\n",
       "\t Avenida 40               & NA\\\\\n",
       "\t Avenida Cero             & NA\\\\\n",
       "\t Avenida Chile            & NA\\\\\n",
       "\t Avenida Circunvalar      & NA\\\\\n",
       "\t Avenida Colombia         & NA\\\\\n",
       "\t Avenida Diecinueve       & NA\\\\\n",
       "\t Avenida El Dorado        & NA\\\\\n",
       "\t Avenida Estacion         & NA\\\\\n",
       "\t Avenida Los Estudiantes  & NA\\\\\n",
       "\t Avenida Norte Tunja      & NA\\\\\n",
       "\t Avenida Oriental         & NA\\\\\n",
       "\t ... & ...\\\\\n",
       "\t Teleport                  & NA\\\\\n",
       "\t Tequendama                & NA\\\\\n",
       "\t Terminal De Transportes   & NA\\\\\n",
       "\t Tintal                    & NA\\\\\n",
       "\t Titan                     & NA\\\\\n",
       "\t Toberin                   & NA\\\\\n",
       "\t Toberin Parque Industrial & NA\\\\\n",
       "\t Trinidad Galan            & NA\\\\\n",
       "\t Trinidad Galan Calle 3A   & NA\\\\\n",
       "\t Troncal                   & NA\\\\\n",
       "\t Tunja                     & NA\\\\\n",
       "\t Tunjuelito                & NA\\\\\n",
       "\t Tuquerres                 & NA\\\\\n",
       "\t Unicentro Bogota          & NA\\\\\n",
       "\t Unicentro Cali            & NA\\\\\n",
       "\t Unicentro Cucuta          & NA\\\\\n",
       "\t Unicentro Medellin        & NA\\\\\n",
       "\t Unico Cali                & NA\\\\\n",
       "\t Unisur                    & NA\\\\\n",
       "\t Valledupar                & NA\\\\\n",
       "\t Vehigrupo                 & NA\\\\\n",
       "\t Veinte De Julio           & NA\\\\\n",
       "\t Veinte De Julio Cra 5     & NA\\\\\n",
       "\t Venecia                   & NA\\\\\n",
       "\t Venecia Av. 68            & NA\\\\\n",
       "\t Villa Javier              & NA\\\\\n",
       "\t Villavicencio             & NA\\\\\n",
       "\t Yopal                     & NA\\\\\n",
       "\t Zipaquira                 & NA\\\\\n",
       "\t Zona Industrial           & NA\\\\\n",
       "\\end{tabular}\n"
      ],
      "text/markdown": [
       "\n",
       "A data.frame: 274 × 2\n",
       "\n",
       "| Group.1 &lt;chr&gt; | x &lt;dbl&gt; |\n",
       "|---|---|\n",
       "| Acacias                  | NA |\n",
       "| Alamos                   | NA |\n",
       "| Alcazares                | NA |\n",
       "| Alfonso Lopez            | NA |\n",
       "| Alpujarra                | NA |\n",
       "| Altavista                | NA |\n",
       "| Alto Prado               | NA |\n",
       "| America                  | NA |\n",
       "| Antiguo Country          | NA |\n",
       "| Apartado                 | NA |\n",
       "| Arauca                   | NA |\n",
       "| Armenia Plaza            | NA |\n",
       "| Asturias                 | NA |\n",
       "| Av Cuarta Cucuta         | NA |\n",
       "| Av Las Palmas Fusagasuga | NA |\n",
       "| Av. Caracas              | NA |\n",
       "| Av. Ciudad De Cali       | NA |\n",
       "| Avenida 26               | NA |\n",
       "| Avenida 30 De Agosto     | NA |\n",
       "| Avenida 40               | NA |\n",
       "| Avenida Cero             | NA |\n",
       "| Avenida Chile            | NA |\n",
       "| Avenida Circunvalar      | NA |\n",
       "| Avenida Colombia         | NA |\n",
       "| Avenida Diecinueve       | NA |\n",
       "| Avenida El Dorado        | NA |\n",
       "| Avenida Estacion         | NA |\n",
       "| Avenida Los Estudiantes  | NA |\n",
       "| Avenida Norte Tunja      | NA |\n",
       "| Avenida Oriental         | NA |\n",
       "| ... | ... |\n",
       "| Teleport                  | NA |\n",
       "| Tequendama                | NA |\n",
       "| Terminal De Transportes   | NA |\n",
       "| Tintal                    | NA |\n",
       "| Titan                     | NA |\n",
       "| Toberin                   | NA |\n",
       "| Toberin Parque Industrial | NA |\n",
       "| Trinidad Galan            | NA |\n",
       "| Trinidad Galan Calle 3A   | NA |\n",
       "| Troncal                   | NA |\n",
       "| Tunja                     | NA |\n",
       "| Tunjuelito                | NA |\n",
       "| Tuquerres                 | NA |\n",
       "| Unicentro Bogota          | NA |\n",
       "| Unicentro Cali            | NA |\n",
       "| Unicentro Cucuta          | NA |\n",
       "| Unicentro Medellin        | NA |\n",
       "| Unico Cali                | NA |\n",
       "| Unisur                    | NA |\n",
       "| Valledupar                | NA |\n",
       "| Vehigrupo                 | NA |\n",
       "| Veinte De Julio           | NA |\n",
       "| Veinte De Julio Cra 5     | NA |\n",
       "| Venecia                   | NA |\n",
       "| Venecia Av. 68            | NA |\n",
       "| Villa Javier              | NA |\n",
       "| Villavicencio             | NA |\n",
       "| Yopal                     | NA |\n",
       "| Zipaquira                 | NA |\n",
       "| Zona Industrial           | NA |\n",
       "\n"
      ],
      "text/plain": [
       "    Group.1                   x  \n",
       "1   Acacias                   NA \n",
       "2   Alamos                    NA \n",
       "3   Alcazares                 NA \n",
       "4   Alfonso Lopez             NA \n",
       "5   Alpujarra                 NA \n",
       "6   Altavista                 NA \n",
       "7   Alto Prado                NA \n",
       "8   America                   NA \n",
       "9   Antiguo Country           NA \n",
       "10  Apartado                  NA \n",
       "11  Arauca                    NA \n",
       "12  Armenia Plaza             NA \n",
       "13  Asturias                  NA \n",
       "14  Av Cuarta Cucuta          NA \n",
       "15  Av Las Palmas Fusagasuga  NA \n",
       "16  Av. Caracas               NA \n",
       "17  Av. Ciudad De Cali        NA \n",
       "18  Avenida 26                NA \n",
       "19  Avenida 30 De Agosto      NA \n",
       "20  Avenida 40                NA \n",
       "21  Avenida Cero              NA \n",
       "22  Avenida Chile             NA \n",
       "23  Avenida Circunvalar       NA \n",
       "24  Avenida Colombia          NA \n",
       "25  Avenida Diecinueve        NA \n",
       "26  Avenida El Dorado         NA \n",
       "27  Avenida Estacion          NA \n",
       "28  Avenida Los Estudiantes   NA \n",
       "29  Avenida Norte Tunja       NA \n",
       "30  Avenida Oriental          NA \n",
       "... ...                       ...\n",
       "245 Teleport                  NA \n",
       "246 Tequendama                NA \n",
       "247 Terminal De Transportes   NA \n",
       "248 Tintal                    NA \n",
       "249 Titan                     NA \n",
       "250 Toberin                   NA \n",
       "251 Toberin Parque Industrial NA \n",
       "252 Trinidad Galan            NA \n",
       "253 Trinidad Galan Calle 3A   NA \n",
       "254 Troncal                   NA \n",
       "255 Tunja                     NA \n",
       "256 Tunjuelito                NA \n",
       "257 Tuquerres                 NA \n",
       "258 Unicentro Bogota          NA \n",
       "259 Unicentro Cali            NA \n",
       "260 Unicentro Cucuta          NA \n",
       "261 Unicentro Medellin        NA \n",
       "262 Unico Cali                NA \n",
       "263 Unisur                    NA \n",
       "264 Valledupar                NA \n",
       "265 Vehigrupo                 NA \n",
       "266 Veinte De Julio           NA \n",
       "267 Veinte De Julio Cra 5     NA \n",
       "268 Venecia                   NA \n",
       "269 Venecia Av. 68            NA \n",
       "270 Villa Javier              NA \n",
       "271 Villavicencio             NA \n",
       "272 Yopal                     NA \n",
       "273 Zipaquira                 NA \n",
       "274 Zona Industrial           NA "
      ]
     },
     "metadata": {},
     "output_type": "display_data"
    }
   ],
   "source": [
    "\n",
    "## Ale plots:\n",
    "\n",
    "aggregate(BASE$BGI,by=list(BASE$Oficina),mean)"
   ]
  },
  {
   "cell_type": "code",
   "execution_count": null,
   "metadata": {},
   "outputs": [],
   "source": []
  },
  {
   "cell_type": "markdown",
   "metadata": {},
   "source": [
    "La metodologia no puede ser desarrollada dado el nivel de Missing values  en la base."
   ]
  },
  {
   "cell_type": "code",
   "execution_count": null,
   "metadata": {},
   "outputs": [],
   "source": []
  },
  {
   "cell_type": "code",
   "execution_count": null,
   "metadata": {},
   "outputs": [],
   "source": []
  },
  {
   "cell_type": "code",
   "execution_count": null,
   "metadata": {},
   "outputs": [],
   "source": []
  }
 ],
 "metadata": {
  "kernelspec": {
   "display_name": "R",
   "language": "R",
   "name": "ir"
  },
  "language_info": {
   "codemirror_mode": "r",
   "file_extension": ".r",
   "mimetype": "text/x-r-source",
   "name": "R",
   "pygments_lexer": "r",
   "version": "3.6.1"
  }
 },
 "nbformat": 4,
 "nbformat_minor": 2
}
